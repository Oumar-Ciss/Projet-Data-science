{
 "cells": [
  {
   "cell_type": "code",
   "execution_count": 1,
   "id": "e0878ad2",
   "metadata": {},
   "outputs": [
    {
     "name": "stdout",
     "output_type": "stream",
     "text": [
      "Requirement already satisfied: pandas in c:\\users\\cisse\\anaconda3\\lib\\site-packages (2.0.3)Note: you may need to restart the kernel to use updated packages.\n",
      "\n",
      "Requirement already satisfied: sqlalchemy in c:\\users\\cisse\\anaconda3\\lib\\site-packages (1.4.39)\n",
      "Requirement already satisfied: pymysql in c:\\users\\cisse\\anaconda3\\lib\\site-packages (1.1.1)\n",
      "Requirement already satisfied: pyodbc in c:\\users\\cisse\\anaconda3\\lib\\site-packages (4.0.34)\n",
      "Requirement already satisfied: openpyxl in c:\\users\\cisse\\anaconda3\\lib\\site-packages (3.0.10)\n",
      "Requirement already satisfied: python-dateutil>=2.8.2 in c:\\users\\cisse\\anaconda3\\lib\\site-packages (from pandas) (2.8.2)\n",
      "Requirement already satisfied: pytz>=2020.1 in c:\\users\\cisse\\anaconda3\\lib\\site-packages (from pandas) (2023.3.post1)\n",
      "Requirement already satisfied: tzdata>=2022.1 in c:\\users\\cisse\\anaconda3\\lib\\site-packages (from pandas) (2023.3)\n",
      "Requirement already satisfied: numpy>=1.21.0 in c:\\users\\cisse\\anaconda3\\lib\\site-packages (from pandas) (1.24.3)\n",
      "Requirement already satisfied: greenlet!=0.4.17 in c:\\users\\cisse\\anaconda3\\lib\\site-packages (from sqlalchemy) (2.0.1)\n",
      "Requirement already satisfied: et_xmlfile in c:\\users\\cisse\\anaconda3\\lib\\site-packages (from openpyxl) (1.1.0)\n",
      "Requirement already satisfied: six>=1.5 in c:\\users\\cisse\\anaconda3\\lib\\site-packages (from python-dateutil>=2.8.2->pandas) (1.16.0)\n"
     ]
    }
   ],
   "source": [
    "pip install pandas sqlalchemy pymysql pyodbc openpyxl"
   ]
  },
  {
   "cell_type": "code",
   "execution_count": 8,
   "id": "09ec0bce",
   "metadata": {},
   "outputs": [],
   "source": [
    "# Importation des différentes librairies\n",
    "import pandas as pd\n",
    "from sqlalchemy import create_engine\n",
    "from sqlalchemy.exc import SQLAlchemyError\n",
    "import urllib"
   ]
  },
  {
   "cell_type": "code",
   "execution_count": 9,
   "id": "28d17490",
   "metadata": {},
   "outputs": [],
   "source": [
    "# === Fonction de connexion MySQL ===\n",
    "def connect_mysql(host, user, password, db):\n",
    "    try:\n",
    "        engine = create_engine(f\"mysql+pymysql://{user}:{password}@{host}/{db}\")\n",
    "        engine.connect()\n",
    "        print(\"✅ Connexion MySQL réussie\")\n",
    "        return engine\n",
    "    except SQLAlchemyError as e:\n",
    "        print(f\"❌ Erreur connexion MySQL : {e}\")\n",
    "        return None"
   ]
  },
  {
   "cell_type": "code",
   "execution_count": 10,
   "id": "5b305353",
   "metadata": {},
   "outputs": [],
   "source": [
    "# === Fonction de connexion SQL Server ===\n",
    "def connect_sqlserver(server, database, user, password):\n",
    "    try:\n",
    "        params = urllib.parse.quote_plus(\n",
    "            f\"DRIVER={{ODBC Driver 17 for SQL Server}};\"\n",
    "            f\"SERVER={server};DATABASE={database};UID={user};PWD={password}\"\n",
    "        )\n",
    "        engine = create_engine(f\"mssql+pyodbc:///?odbc_connect={params}\")\n",
    "        engine.connect()\n",
    "        print(\"✅ Connexion SQL Server réussie\")\n",
    "        return engine\n",
    "    except SQLAlchemyError as e:\n",
    "        print(f\"❌ Erreur connexion SQL Server : {e}\")\n",
    "        return None"
   ]
  },
  {
   "cell_type": "code",
   "execution_count": 11,
   "id": "f86c6f5f",
   "metadata": {},
   "outputs": [],
   "source": [
    "# === Fonction de transfert de table ===\n",
    "def transfer_table(table_name, source_engine, dest_engine):\n",
    "    try:\n",
    "        print(f\"\\n🔄 Transfert de {table_name} en cours...\")\n",
    "        df = pd.read_sql(f\"SELECT * FROM {table_name}\", con=source_engine)\n",
    "        df.to_sql(table_name, con=dest_engine, if_exists=\"append\", index=False)\n",
    "        print(f\"✅ Table {table_name} transférée avec succès.\")\n",
    "    except SQLAlchemyError as e:\n",
    "        print(f\"❌ Erreur pendant le transfert de {table_name} : {e}\")"
   ]
  },
  {
   "cell_type": "code",
   "execution_count": 12,
   "id": "bde71f3c",
   "metadata": {},
   "outputs": [],
   "source": [
    "# === Paramètres à modifier ===\n",
    "MYSQL_HOST = \"localhost\"\n",
    "MYSQL_USER = \"root\"\n",
    "MYSQL_PWD = \"\"\n",
    "MYSQL_DB = \"dataprojet\"\n",
    "\n",
    "SQLSERVER_HOST = \"OUMAR-CISS\\SQLEXPRESS\"\n",
    "SQLSERVER_DB = \"base_projet\"\n",
    "SQLSERVER_USER = \"test\"\n",
    "SQLSERVER_PWD = \"1234\""
   ]
  },
  {
   "cell_type": "code",
   "execution_count": 14,
   "id": "480cdf25",
   "metadata": {},
   "outputs": [
    {
     "name": "stdout",
     "output_type": "stream",
     "text": [
      "✅ Connexion MySQL réussie\n",
      "✅ Connexion SQL Server réussie\n"
     ]
    }
   ],
   "source": [
    "# === Connexions ===\n",
    "mysql_engine = connect_mysql(MYSQL_HOST, MYSQL_USER, MYSQL_PWD, MYSQL_DB)\n",
    "sqlserver_engine = connect_sqlserver(SQLSERVER_HOST, SQLSERVER_DB, SQLSERVER_USER, SQLSERVER_PWD)"
   ]
  },
  {
   "cell_type": "code",
   "execution_count": 19,
   "id": "8941d7d2",
   "metadata": {},
   "outputs": [
    {
     "name": "stdout",
     "output_type": "stream",
     "text": [
      "✅ Connexion MySQL réussie\n",
      "✅ Connexion SQL Server réussie\n",
      "\n",
      "🔄 Transfert de segment en cours...\n",
      "❌ Erreur pendant le transfert de segment : (pyodbc.IntegrityError) ('23000', \"[23000] [Microsoft][ODBC Driver 17 for SQL Server][SQL Server]Violation of PRIMARY KEY constraint 'PK__segment__0CFFA014759CEBF8'. Cannot insert duplicate key in object 'dbo.segment'. The duplicate key value is (1). (2627) (SQLExecDirectW); [23000] [Microsoft][ODBC Driver 17 for SQL Server][SQL Server]The statement has been terminated. (3621)\")\n",
      "[SQL: INSERT INTO segment (id_segment, libelle) VALUES (?, ?)]\n",
      "[parameters: ((1, 'PARTICULIER'), (2, 'ENTREPRISES'), (3, 'AUTRES'))]\n",
      "(Background on this error at: https://sqlalche.me/e/14/gkpj)\n",
      "\n",
      "🔄 Transfert de canal en cours...\n",
      "❌ Erreur pendant le transfert de canal : (pyodbc.IntegrityError) ('23000', \"[23000] [Microsoft][ODBC Driver 17 for SQL Server][SQL Server]Violation of PRIMARY KEY constraint 'PK__canal__D4C01CC8F84B95C4'. Cannot insert duplicate key in object 'dbo.canal'. The duplicate key value is (1). (2627) (SQLExecDirectW); [23000] [Microsoft][ODBC Driver 17 for SQL Server][SQL Server]The statement has been terminated. (3621)\")\n",
      "[SQL: INSERT INTO canal (id_canal, libelle) VALUES (?, ?)]\n",
      "[parameters: ((1, 'AGENTS GENERAUX'), (2, 'COURTIERS'), (3, 'BUREAUX DIRECTS'))]\n",
      "(Background on this error at: https://sqlalche.me/e/14/gkpj)\n",
      "\n",
      "🔄 Transfert de branche en cours...\n",
      "❌ Erreur pendant le transfert de branche : (pyodbc.IntegrityError) ('23000', \"[23000] [Microsoft][ODBC Driver 17 for SQL Server][SQL Server]Violation of PRIMARY KEY constraint 'PK__branche__FA6A224231659F36'. Cannot insert duplicate key in object 'dbo.branche'. The duplicate key value is (1). (2627) (SQLExecDirectW); [23000] [Microsoft][ODBC Driver 17 for SQL Server][SQL Server]The statement has been terminated. (3621)\")\n",
      "[SQL: INSERT INTO branche (id_branche, [LIBELLE]) VALUES (?, ?)]\n",
      "[parameters: ((1, 'Automobile'), (2, 'Risques Divers_opt1'), (3, 'Transport_opt1'), (4, 'Risques Divers_opt2'), (5, 'Risques Divers_opt3'), (6, 'Risques Divers_opt4'), (7, 'Maladie'), (8, 'Transport_opt2'))]\n",
      "(Background on this error at: https://sqlalche.me/e/14/gkpj)\n",
      "\n",
      "🔄 Transfert de produit en cours...\n",
      "❌ Erreur pendant le transfert de produit : (pyodbc.IntegrityError) ('23000', \"[23000] [Microsoft][ODBC Driver 17 for SQL Server][SQL Server]Violation of PRIMARY KEY constraint 'PK__produit__3EDC366B21C21FE3'. Cannot insert duplicate key in object 'dbo.produit'. The duplicate key value is (11, 1). (2627) (SQLExecDirectW); [23000] [Microsoft][ODBC Driver 17 for SQL Server][SQL Server]The statement has been terminated. (3621)\")\n",
      "[SQL: INSERT INTO produit (id_produit, branche_id_branche, libelle) VALUES (?, ?, ?)]\n",
      "[parameters: ((11, 1, 'Poduit_01'), (12, 1, 'Poduit_02'), (13, 1, 'Poduit_03'), (14, 1, 'Poduit_04'), (15, 1, 'Poduit_05'), (16, 1, 'Poduit_06'), (17, 1, 'Poduit_07'), (18, 1, 'Poduit_08')  ... displaying 10 of 42 total bound parameter sets ...  (621, 6, 'Poduit_21'), (622, 6, 'Poduit_22'))]\n",
      "(Background on this error at: https://sqlalche.me/e/14/gkpj)\n",
      "\n",
      "🔄 Transfert de client en cours...\n",
      "❌ Erreur pendant le transfert de client : (pyodbc.IntegrityError) ('23000', \"[23000] [Microsoft][ODBC Driver 17 for SQL Server][SQL Server]Violation of PRIMARY KEY constraint 'PK__client__C48872DE778DCDF4'. Cannot insert duplicate key in object 'dbo.client'. The duplicate key value is (1, 1). (2627) (SQLExecDirectW); [23000] [Microsoft][ODBC Driver 17 for SQL Server][SQL Server]The statement has been terminated. (3621)\")\n",
      "[SQL: INSERT INTO client (id_client, segment_id_segment, nom, adresse) VALUES (?, ?, ?, ?)]\n",
      "[parameters: ((1, 1, 'PARTICULIER', None), (2, 1, 'PARTICULIER', None), (3, 1, 'PARTICULIER', None), (4, 1, 'PARTICULIER', None), (5, 1, 'PARTICULIER', None), (6, 1, 'PARTICULIER', None), (7, 1, 'PARTICULIER', None), (8, 1, 'PARTICULIER', None)  ... displaying 10 of 26990 total bound parameter sets ...  (26730, 2, 'ENTREPRISES', None), (26731, 1, 'PARTICULIER', None))]\n",
      "(Background on this error at: https://sqlalche.me/e/14/gkpj)\n",
      "\n",
      "🔄 Transfert de intermediaire en cours...\n",
      "❌ Erreur pendant le transfert de intermediaire : (pyodbc.IntegrityError) ('23000', \"[23000] [Microsoft][ODBC Driver 17 for SQL Server][SQL Server]Violation of PRIMARY KEY constraint 'PK__intermed__8A44284489B8A5FD'. Cannot insert duplicate key in object 'dbo.intermediaire'. The duplicate key value is (101, 1). (2627) (SQLExecDirectW); [23000] [Microsoft][ODBC Driver 17 for SQL Server][SQL Server]The statement has been terminated. (3621)\")\n",
      "[SQL: INSERT INTO intermediaire (id_intermediaire, canal_id_canal, libelle) VALUES (?, ?, ?)]\n",
      "[parameters: ((101, 1, 'AGENCE_01'), (102, 1, 'AGENCE_02'), (103, 1, 'AGENCE_03'), (104, 1, 'AGENCE_04'), (105, 1, 'AGENCE_05'), (106, 1, 'AGENCE_06'), (107, 1, 'AGENCE_07'), (108, 1, 'AGENCE_08')  ... displaying 10 of 25 total bound parameter sets ...  (304, 3, 'BUREAU_04'), (305, 3, 'BUREAU_05'))]\n",
      "(Background on this error at: https://sqlalche.me/e/14/gkpj)\n",
      "\n",
      "🔄 Transfert de production en cours...\n",
      "❌ Erreur pendant le transfert de production : (pyodbc.IntegrityError) ('23000', \"[23000] [Microsoft][ODBC Driver 17 for SQL Server][SQL Server]Violation of PRIMARY KEY constraint 'PK__producti__C94C1B5D4FD76B70'. Cannot insert duplicate key in object 'dbo.production'. The duplicate key value is (POL-1002-1002634417444263, 1, 13, 2, 210, 2, 20361). (2627) (SQLExecDirectW); [23000] [Microsoft][ODBC Driver 17 for SQL Server][SQL Server]The statement has been terminated. (3621)\")\n",
      "[SQL: INSERT INTO production (id_production, produit_branche_id_branche, produit_id_produit, intermediaire_canal_id_canal, intermediaire_id_intermediaire, client_segment_id_segment, client_id_client, exercice, date_effet, date_fin, prime_nette, cout_police, taxe, prime_totale) VALUES (?, ?, ?, ?, ?, ?, ?, ?, ?, ?, ?, ?, ?, ?)]\n",
      "[parameters: (('POL-1002-1002634417444263', 1, 13, 2, 210, 2, 20361, datetime.datetime(2020, 12, 9, 0, 0), datetime.datetime(2020, 12, 9, 0, 0), datetime.datetime(2021, 3, 8, 0, 0), 7068870.0, 15302.0, 991784.0, 8075960.0), ('POL-1002-1002664417144260', 1, 13, 2, 209, 2, 5556, datetime.datetime(2020, 12, 6, 0, 0), datetime.datetime(2020, 12, 6, 0, 0), datetime.datetime(2021, 3, 5, 0, 0), 11830500.0, 13141.0, 1302800.0, 13146400.0), ('POL-1036-1036974419444282', 1, 12, 3, 305, 1, 15929, datetime.datetime(2020, 12, 29, 0, 0), datetime.datetime(2020, 12, 29, 0, 0), datetime.datetime(2021, 3, 27, 0, 0), 9006680.0, 18295.0, 992748.0, 10017700.0), ('POL-1040-1040764415344517', 1, 16, 3, 303, 2, 20526, datetime.datetime(2020, 11, 18, 0, 0), datetime.datetime(2020, 11, 18, 0, 0), datetime.datetime(2021, 11, 17, 0, 0), 16193900.0, 17444.0, 1621140.0, 17832500.0), ('POL-1106-1106044419744561', 4, 45, 2, 201, 2, 23010, datetime.datetime(2021, 1, 1, 0, 0), datetime.datetime(2021, 1, 1, 0, 0), datetime.datetime(2021, 12, 31, 0, 0), 13398600.0, 16681.0, 1878140.0, 15293500.0), ('POL-1142-1142434416644530', 1, 12, 3, 304, 3, 23891, datetime.datetime(2020, 12, 1, 0, 0), datetime.datetime(2020, 12, 1, 0, 0), datetime.datetime(2021, 11, 30, 0, 0), 9634610.0, 18886.0, 1061880.0, 10715400.0), ('POL-1144-1144124399744361', 1, 16, 3, 301, 1, 11108, datetime.datetime(2020, 6, 15, 0, 0), datetime.datetime(2020, 6, 15, 0, 0), datetime.datetime(2021, 6, 14, 0, 0), 2762100.0, 14070.0, 277617.0, 3053780.0), ('POL-1900-00396384401244194', 1, 12, 1, 101, 1, 553, datetime.datetime(2020, 6, 30, 0, 0), datetime.datetime(2020, 6, 30, 0, 0), datetime.datetime(2020, 12, 29, 0, 0), 7641250.0, 13653.0, 842039.0, 8496940.0)  ... displaying 10 of 84621 total bound parameter sets ...  ('POL-9229-922964413144489', 1, 13, 2, 207, 1, 24435, datetime.datetime(2020, 10, 27, 0, 0), datetime.datetime(2020, 10, 27, 0, 0), datetime.datetime(2021, 10, 20, 0, 0), 9347910.0, 14769.0, 1029890.0, 10392600.0), ('POL-9747-974724416144493', 2, 215, 2, 208, 2, 6113, datetime.datetime(2020, 11, 26, 0, 0), datetime.datetime(2020, 11, 26, 0, 0), datetime.datetime(2021, 10, 24, 0, 0), 16502100.0, 15351.0, 1816920.0, 18334400.0))]\n",
      "(Background on this error at: https://sqlalche.me/e/14/gkpj)\n",
      "\n",
      "📥 Chargement du fichier Excel Objectif.xlsx\n",
      "❌ Erreur import Excel : (pyodbc.DataError) ('22018', '[22018] [Microsoft][ODBC Driver 17 for SQL Server][SQL Server]Operand type clash: datetime2 is incompatible with int (206) (SQLExecDirectW); [22018] [Microsoft][ODBC Driver 17 for SQL Server][SQL Server]Statement(s) could not be prepared. (8180)')\n",
      "[SQL: INSERT INTO objectif (annee, exercice, id_segment, segment, id_branche, branche, id_produit, produit, id_intermediaire, intermediaire, id_canal, canal, objectif_ca) VALUES (?, ?, ?, ?, ?, ?, ?, ?, ?, ?, ?, ?, ?)]\n",
      "[parameters: ((2019, datetime.datetime(2019, 1, 1, 0, 0), 2, 'ENTREPRISES', 1, 'Automobile', 16, 'Poduit_06', 102, 'AGENCE_02', 1, 'AGENTS GENERAUX', 24930839.663999997), (2019, datetime.datetime(2019, 1, 4, 0, 0), 1, 'PARTICULIER', 1, 'Automobile', 12, 'Poduit_02', 110, 'AGENCE_10', 1, 'AGENTS GENERAUX', 20682365.184), (2019, datetime.datetime(2019, 1, 7, 0, 0), 1, 'PARTICULIER', 1, 'Automobile', 12, 'Poduit_02', 110, 'AGENCE_10', 1, 'AGENTS GENERAUX', 22213246.104000002), (2019, datetime.datetime(2019, 1, 15, 0, 0), 2, 'ENTREPRISES', 1, 'Automobile', 16, 'Poduit_06', 107, 'AGENCE_07', 1, 'AGENTS GENERAUX', 23268288.96), (2019, datetime.datetime(2019, 1, 25, 0, 0), 2, 'ENTREPRISES', 1, 'Automobile', 16, 'Poduit_06', 304, 'BUREAU_04', 3, 'BUREAUX DIRECTS', 3024221.64), (2019, datetime.datetime(2019, 1, 28, 0, 0), 2, 'ENTREPRISES', 1, 'Automobile', 16, 'Poduit_06', 207, 'Courtier_07', 2, 'COURTIERS', 20462818.02), (2019, datetime.datetime(2019, 2, 28, 0, 0), 1, 'PARTICULIER', 1, 'Automobile', 16, 'Poduit_06', 304, 'BUREAU_04', 3, 'BUREAUX DIRECTS', 14756823.227999998), (2019, datetime.datetime(2019, 3, 6, 0, 0), 2, 'ENTREPRISES', 1, 'Automobile', 16, 'Poduit_06', 203, 'Courtier_03', 2, 'COURTIERS', 5366257.704)  ... displaying 10 of 50941 total bound parameter sets ...  (2024, datetime.datetime(2024, 4, 22, 0, 0), 1, 'PARTICULIER', 1, 'Automobile', 13, 'Poduit_03', 303, 'BUREAU_03', 3, 'BUREAUX DIRECTS', 22900891.2), (2024, datetime.datetime(2024, 4, 27, 0, 0), 1, 'PARTICULIER', 6, 'Risques Divers_opt4', 610, 'Poduit_10', 304, 'BUREAU_04', 3, 'BUREAUX DIRECTS', 10647915.6))]\n",
      "(Background on this error at: https://sqlalche.me/e/14/9h9h)\n"
     ]
    }
   ],
   "source": [
    "# === Transfert des tables MySQL => SQL Server ===\n",
    "if mysql_engine and sqlserver_engine:\n",
    "    tables = [\"segment\", \"canal\", \"branche\", \"produit\", \"client\", \"intermediaire\", \"production\"]\n",
    "    for table in tables:\n",
    "        transfer_table(table, mysql_engine, sqlserver_engine)\n",
    "else:\n",
    "    print(\"⛔ Connexion à l’une des bases échouée. Opération annulée.\")\n"
   ]
  },
  {
   "cell_type": "code",
   "execution_count": 22,
   "id": "2d893be1",
   "metadata": {},
   "outputs": [],
   "source": [
    "import pandas as pd\n",
    "from sqlalchemy.exc import SQLAlchemyError\n",
    "\n",
    "def load_objectif_excel(excel_path, sqlserver_engine):\n",
    "    try:\n",
    "        print(\"\\n📥 Chargement du fichier Excel Objectif.xlsx\")\n",
    "        \n",
    "        # Chargement du fichier Excel\n",
    "        df = pd.read_excel(excel_path)\n",
    "\n",
    "        # Renommage explicite des colonnes pour correspondre à la table SQL Server\n",
    "        df = df.rename(columns={\n",
    "            \"Année\": \"annee\",\n",
    "            \"Exercice\": \"exercice\",\n",
    "            \"Id_segment\": \"id_segment\",\n",
    "            \"Segment\": \"segment\",\n",
    "            \"Id_branche\": \"id_branche\",\n",
    "            \"Branche\": \"branche\",\n",
    "            \"id_produit\": \"id_produit\",\n",
    "            \"Produit\": \"produit\",\n",
    "            \"Id_intermediaire\": \"id_intermediaire\",\n",
    "            \"Intermediaire\": \"intermediaire\",\n",
    "            \"Id_Canal\": \"id_canal\",\n",
    "            \"canal\": \"canal\",\n",
    "            \"Objectif_CA\": \"objectif_ca\"\n",
    "        })\n",
    "\n",
    "        # Chargement dans SQL Server\n",
    "        df.to_sql(\"objectif\", con=sqlserver_engine, if_exists=\"append\", index=False)\n",
    "        print(\"✅ Objectif chargé avec succès dans SQL Server.\")\n",
    "\n",
    "    except SQLAlchemyError as e:\n",
    "        print(f\"❌ Erreur SQLAlchemy : {e}\")\n",
    "    except Exception as e:\n",
    "        print(f\"❌ Erreur générale : {e}\")\n"
   ]
  },
  {
   "cell_type": "code",
   "execution_count": 23,
   "id": "783cb5a1",
   "metadata": {},
   "outputs": [
    {
     "name": "stdout",
     "output_type": "stream",
     "text": [
      "\n",
      "📥 Chargement du fichier Excel Objectif.xlsx\n",
      "✅ Objectif chargé avec succès dans SQL Server.\n"
     ]
    }
   ],
   "source": [
    "load_objectif_excel(\"Objectif.xlsx\", sqlserver_engine)"
   ]
  },
  {
   "cell_type": "code",
   "execution_count": 16,
   "id": "22bd9446",
   "metadata": {},
   "outputs": [
    {
     "name": "stdout",
     "output_type": "stream",
     "text": [
      "✅ Table production mise à jour avec colonne CA.\n"
     ]
    }
   ],
   "source": [
    "# Création de la variable chiffre d'affaires (CA)\n",
    "\n",
    "# Lire la table production depuis MySQL\n",
    "df_prod = pd.read_sql(\"SELECT * FROM production\", mysql_engine)\n",
    "\n",
    "# Calcul de la colonne CA (exemple : prime_nette + taxe)\n",
    "df_prod[\"CA\"] = df_prod[\"prime_nette\"] + df_prod[\"cout_police\"]\n",
    "\n",
    "# Charger dans SQL Server (remplacer ou compléter selon ton besoin)\n",
    "df_prod.to_sql(\"production\", sqlserver_engine, if_exists=\"replace\", index=False)  # ou append\n",
    "\n",
    "print(\"✅ Table production mise à jour avec colonne CA.\")\n"
   ]
  },
  {
   "cell_type": "code",
   "execution_count": 24,
   "id": "5c6d83fa",
   "metadata": {},
   "outputs": [
    {
     "name": "stdout",
     "output_type": "stream",
     "text": [
      "       client_id_client  produit_id_produit date_effet   date_fin  \\\n",
      "62185                 1                  12 2021-11-01 2022-10-31   \n",
      "62186                 1                  12 2023-01-18 2024-01-17   \n",
      "83194                 2                  12 2023-09-26 2024-03-25   \n",
      "74431                 3                  13 2022-10-01 2023-09-30   \n",
      "40428                 4                  12 2020-09-18 2021-09-17   \n",
      "...                 ...                 ...        ...        ...   \n",
      "26677             26730                  13 2021-03-18 2021-09-17   \n",
      "36517             26730                  13 2021-03-21 2021-09-20   \n",
      "52394             26730                  13 2021-06-05 2021-12-04   \n",
      "61372             26731                  12 2021-12-03 2022-12-02   \n",
      "61373             26731                  12 2022-12-03 2023-12-02   \n",
      "\n",
      "      etat_renouvellement  \n",
      "62185       non renouvelé  \n",
      "62186       non renouvelé  \n",
      "83194       non renouvelé  \n",
      "74431       non renouvelé  \n",
      "40428       non renouvelé  \n",
      "...                   ...  \n",
      "26677           renouvelé  \n",
      "36517           renouvelé  \n",
      "52394       non renouvelé  \n",
      "61372           renouvelé  \n",
      "61373       non renouvelé  \n",
      "\n",
      "[84621 rows x 5 columns]\n"
     ]
    }
   ],
   "source": [
    "# Chargement de la table production\n",
    "df = pd.read_sql(\"SELECT * FROM production\", sqlserver_engine)  # ou mysql_engine\n",
    "\n",
    "# Conversion des dates\n",
    "df[\"date_effet\"] = pd.to_datetime(df[\"date_effet\"])\n",
    "df[\"date_fin\"] = pd.to_datetime(df[\"date_fin\"])\n",
    "\n",
    "# Trie des contrats\n",
    "df = df.sort_values([\"client_id_client\", \"produit_id_produit\", \"date_effet\"])\n",
    "\n",
    "# Ajout de la date du contrat suivant\n",
    "df[\"date_effet_suivante\"] = df.groupby([\"client_id_client\", \"produit_id_produit\"])[\"date_effet\"].shift(-1)\n",
    "\n",
    "# Création de la variable de statut de renouvellement\n",
    "df[\"etat_renouvellement\"] = df.apply(\n",
    "    lambda row: \"non renouvelé\" if pd.isna(row[\"date_effet_suivante\"]) \n",
    "                                     or row[\"date_fin\"] < row[\"date_effet_suivante\"] - pd.Timedelta(days=1)\n",
    "                else \"renouvelé\",\n",
    "    axis=1\n",
    ")\n",
    "\n",
    "# 6. Affichage de vérification\n",
    "print(df[[\"client_id_client\", \"produit_id_produit\", \"date_effet\", \"date_fin\", \"etat_renouvellement\"]])\n"
   ]
  },
  {
   "cell_type": "code",
   "execution_count": 25,
   "id": "30c66ea7",
   "metadata": {},
   "outputs": [
    {
     "data": {
      "text/plain": [
       "-1"
      ]
     },
     "execution_count": 25,
     "metadata": {},
     "output_type": "execute_result"
    }
   ],
   "source": [
    "df.to_sql(\"production\", con=sqlserver_engine, if_exists=\"replace\", index=False)\n"
   ]
  },
  {
   "cell_type": "code",
   "execution_count": null,
   "id": "29c1a770",
   "metadata": {},
   "outputs": [],
   "source": []
  }
 ],
 "metadata": {
  "kernelspec": {
   "display_name": "Python 3 (ipykernel)",
   "language": "python",
   "name": "python3"
  },
  "language_info": {
   "codemirror_mode": {
    "name": "ipython",
    "version": 3
   },
   "file_extension": ".py",
   "mimetype": "text/x-python",
   "name": "python",
   "nbconvert_exporter": "python",
   "pygments_lexer": "ipython3",
   "version": "3.11.5"
  }
 },
 "nbformat": 4,
 "nbformat_minor": 5
}
